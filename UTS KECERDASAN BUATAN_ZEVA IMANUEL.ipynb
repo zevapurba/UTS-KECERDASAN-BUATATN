{
 "cells": [
  {
   "cell_type": "markdown",
   "id": "d7e11f72-a0da-4af3-998f-0c93ca169cfd",
   "metadata": {},
   "source": [
    "# UTS KECERDASAN BUATAN\n",
    "nama :zeva imanuel purba\n",
    "\n",
    "nim  : 221011402638\n",
    "\n",
    "kelas: tple017"
   ]
  },
  {
   "cell_type": "code",
   "execution_count": 16,
   "id": "681459b4-b56a-45be-a3ae-5d4ce6afe1d4",
   "metadata": {},
   "outputs": [],
   "source": [
    "# Data\n",
    "company_detail_list = [\n",
    "    {'name': 'Company 1', 'domain': 'Retail', 'country': 'United States'},\n",
    "    {'name': 'Company 2', 'domain': 'Technology', 'country': 'United Kingdom'},\n",
    "    {'name': 'Company 3', 'domain': 'Healthcare', 'country': 'United States'}\n",
    "]\n",
    "\n",
    "employee_detail_list = [\n",
    "    {'name': 'EMP-0001', 'first_name': 'John', 'last_name': 'Doe', 'full_name': 'John Doe', 'company': 'Company 1', 'nationality': 'Australia'},\n",
    "    {'name': 'EMP-0002', 'first_name': 'Tom', 'last_name': 'Smith', 'full_name': 'Tom Smith', 'company': 'Company 2', 'nationality': 'United States'},\n",
    "    {'name': 'EMP-0003', 'first_name': 'Andrew', 'last_name': 'Sebastian', 'full_name': 'Andrew Sebastian', 'company': 'Company 3', 'nationality': 'United States'},\n",
    "    {'name': 'EMP-0005', 'first_name': 'Ying Han', 'last_name': 'Tan', 'full_name': 'Ying Han Tan', 'company': 'Company 1', 'nationality': 'Australia'},\n",
    "    {'name': 'EMP-0015', 'first_name': 'Kenneth', 'last_name': 'Ng', 'full_name': 'Kenneth Ng', 'company': 'Company 3', 'nationality': 'United States'},\n",
    "    {'name': 'EMP-0018', 'first_name': 'Rubby', 'last_name': 'Lee', 'full_name': 'Rubby Lee', 'company': 'Company 2', 'nationality': 'Hong Kong'},\n",
    "    {'name': 'EMP-0017', 'first_name': 'Robert', 'last_name': 'White', 'full_name': 'Robert White', 'company': 'Company 1', 'nationality': 'United Kingdom'}\n",
    "]\n"
   ]
  },
  {
   "cell_type": "code",
   "execution_count": 12,
   "id": "026d689f-8cb6-46ef-a20f-eb635a492e28",
   "metadata": {},
   "outputs": [
    {
     "name": "stdout",
     "output_type": "stream",
     "text": [
      "[{'name': 'Company 3'}, {'name': 'Company 2'}, {'name': 'Company 1'}]\n"
     ]
    }
   ],
   "source": [
    "# Task 1\n",
    "def get_sorted_companies():\n",
    "    sorted_companies = sorted(company_detail_list, key=lambda x: x['name'], reverse=True)\n",
    "    return [{'name': company['name']} for company in sorted_companies]\n",
    "\n",
    "\n",
    "print(get_sorted_companies())\n"
   ]
  },
  {
   "cell_type": "code",
   "execution_count": 13,
   "id": "25af0baa-29d3-4cb2-8d95-44ff187bfbab",
   "metadata": {},
   "outputs": [
    {
     "name": "stdout",
     "output_type": "stream",
     "text": [
      "Company 1: Retail (United States)\n",
      "Company 2: Technology (United Kingdom)\n",
      "Company 3: Healthcare (United States)\n"
     ]
    }
   ],
   "source": [
    "# soal 2\n",
    "def print_company_domains():\n",
    "    for company in company_detail_list:\n",
    "        print(f\"{company['name']}: {company['domain']} ({company['country']})\")\n",
    "\n",
    "print_company_domains()\n"
   ]
  },
  {
   "cell_type": "code",
   "execution_count": 14,
   "id": "cfbd7d2e-28c2-4e8c-a211-3fb08a6c6a04",
   "metadata": {},
   "outputs": [
    {
     "name": "stdout",
     "output_type": "stream",
     "text": [
      "{'Retail': ['John Doe', 'Ying Han Tan', 'Robert White'], 'Technology': ['Tom Smith', 'Rubby Lee'], 'Healthcare': ['Andrew Sebastian', 'Kenneth Ng']}\n"
     ]
    }
   ],
   "source": [
    "# Task 3\n",
    "def list_employees_by_domain():\n",
    "    domain_employees = {}\n",
    "    for company in company_detail_list:\n",
    "        domain_employees[company['domain']] = [\n",
    "            emp['full_name'] for emp in employee_detail_list if emp['company'] == company['name']\n",
    "        ]\n",
    "    return domain_employees\n",
    "\n",
    "\n",
    "print(list_employees_by_domain())\n"
   ]
  },
  {
   "cell_type": "code",
   "execution_count": 15,
   "id": "c571e917-1737-478d-ba2e-600153866c5e",
   "metadata": {},
   "outputs": [
    {
     "name": "stdout",
     "output_type": "stream",
     "text": [
      "[{'full_name': 'John Doe', 'company': 'Company 1', 'country': 'United States'}, {'full_name': 'Tom Smith', 'company': 'Company 2', 'country': 'United Kingdom'}, {'full_name': 'Andrew Sebastian', 'company': 'Company 3', 'country': 'United States'}, {'full_name': 'Ying Han Tan', 'company': 'Company 1', 'country': 'United States'}, {'full_name': 'Kenneth Ng', 'company': 'Company 3', 'country': 'United States'}, {'full_name': 'Rubby Lee', 'company': 'Company 2', 'country': 'United Kingdom'}, {'full_name': 'Robert White', 'company': 'Company 1', 'country': 'United States'}]\n"
     ]
    }
   ],
   "source": [
    "# Task 4\n",
    "def employees_with_company_country():\n",
    "    result = []\n",
    "    for emp in employee_detail_list:\n",
    "        for company in company_detail_list:\n",
    "            if emp['company'] == company['name']:\n",
    "                result.append({\n",
    "                    'full_name': emp['full_name'],\n",
    "                    'company': emp['company'],\n",
    "                    'country': company['country']\n",
    "                })\n",
    "    return result\n",
    "\n",
    "\n",
    "print(employees_with_company_country())\n"
   ]
  },
  {
   "cell_type": "code",
   "execution_count": 10,
   "id": "b957de57-1e6a-4d30-8308-51f002df31af",
   "metadata": {},
   "outputs": [
    {
     "name": "stdout",
     "output_type": "stream",
     "text": [
      "[{'company': 'Company 1', 'employee_nationality': {'Australia': 2, 'United Kingdom': 1}}, {'company': 'Company 2', 'employee_nationality': {'United States': 1, 'Hong Kong': 1}}, {'company': 'Company 3', 'employee_nationality': {'United States': 2}}]\n"
     ]
    }
   ],
   "source": [
    "# Task 5\n",
    "from collections import defaultdict\n",
    "\n",
    "def count_employee_nationalities():\n",
    "    nationality_count = defaultdict(lambda: defaultdict(int))\n",
    "    for emp in employee_detail_list:\n",
    "        for company in company_detail_list:\n",
    "            if emp['company'] == company['name']:\n",
    "                nationality_count[company['name']][emp['nationality']] += 1\n",
    "    return [{'company': company, 'employee_nationality': dict(nationalities)} for company, nationalities in nationality_count.items()]\n",
    "\n",
    "\n",
    "print(count_employee_nationalities())\n"
   ]
  }
 ],
 "metadata": {
  "kernelspec": {
   "display_name": "Python 3 (ipykernel)",
   "language": "python",
   "name": "python3"
  },
  "language_info": {
   "codemirror_mode": {
    "name": "ipython",
    "version": 3
   },
   "file_extension": ".py",
   "mimetype": "text/x-python",
   "name": "python",
   "nbconvert_exporter": "python",
   "pygments_lexer": "ipython3",
   "version": "3.12.6"
  }
 },
 "nbformat": 4,
 "nbformat_minor": 5
}
